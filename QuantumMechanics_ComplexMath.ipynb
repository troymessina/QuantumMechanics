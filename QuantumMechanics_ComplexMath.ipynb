{
  "nbformat": 4,
  "nbformat_minor": 0,
  "metadata": {
    "colab": {
      "provenance": [],
      "include_colab_link": true
    },
    "kernelspec": {
      "name": "python3",
      "display_name": "Python 3"
    }
  },
  "cells": [
    {
      "cell_type": "markdown",
      "metadata": {
        "id": "view-in-github",
        "colab_type": "text"
      },
      "source": [
        "<a href=\"https://colab.research.google.com/github/troymessina/QuantumMechanics/blob/master/QuantumMechanics_ComplexMath.ipynb\" target=\"_parent\"><img src=\"https://colab.research.google.com/assets/colab-badge.svg\" alt=\"Open In Colab\"/></a>"
      ]
    },
    {
      "cell_type": "markdown",
      "source": [
        "# Complex Math in Time-Dependent Schrodinger Equation\n",
        "\n",
        "In chapter 3, there is discussion of finding the time dependence of the probability of a general state written in the energy basis.\n",
        "\n",
        "$$|a_1\\rangle = \\alpha_1|E_1\\rangle + \\alpha_2|E_2\\rangle$$\n",
        "\n",
        "We calculate the probability\n",
        "\n",
        "$$P_{a_1} = \\left|\\langle a_1|\\psi(t)\\rangle\\right|^2$$\n",
        "\n",
        "where\n",
        "\n",
        "$$|\\psi(t)\\rangle = c_1e^{-iE_1t/\\hbar}|E_1\\rangle + c_2e^{-iE_2t/\\hbar}|E_2\\rangle$$\n",
        "\n",
        "and this gives\n",
        "\n",
        "$$|\\psi(0)\\rangle = c_1|E_1\\rangle + c_2|E_2\\rangle$$\n",
        "\n",
        "All of the coefficients, $\\alpha_1, \\alpha_2, c_1,$ and $c_2$ should be considered as complex. After some algebra, we encounter a pretty messy complex multiplication.\n",
        "\n",
        "$$P_{a_1} = \\left|\\alpha_1^*c_1e^{-iE_1t/\\hbar}+\\alpha_2^*c_2e^{-iE_2t/\\hbar}\\right|^2$$\n",
        "\n",
        "and this is written out\n",
        "\n",
        "$$P_{a_1} = \\left(\\alpha_1c_1^*e^{iE_1t/\\hbar}+\\alpha_2c_2^*e^{iE_2t/\\hbar}\\right)\\left(\\alpha_1^*c_1e^{-iE_1t/\\hbar}+\\alpha_2^*c_2e^{-iE_2t/\\hbar}\\right)$$\n",
        "\n",
        "which FOILs to become\n",
        "\n",
        "$$P_{a_1}=|\\alpha_1|^2|c_1|^2 + |\\alpha_2|^2|c_2|^2+\\alpha_1\\alpha_2^*c_1^*c_2e^{-i(E_2-E_1)t/\\hbar}+\\alpha_1^*\\alpha_2c_1c_2^*e^{-i(E_1-E_2)t/\\hbar}$$\n",
        "\n",
        "The textbook claimes this is equal to\n",
        "\n",
        "$$P_{a_1} = |\\alpha_1|^2|c_1|^2 + |\\alpha_2|^2|c_2|^2+2\\rm{Re}\\left(\\alpha_1\\alpha_2^*c_1^*c_2e^{-i(E_2-E_1)t/\\hbar}\\right)$$  \n",
        "\n",
        "We want to explore the equivalence\n",
        "\n",
        "$$\\alpha_1\\alpha_2^*c_1^*c_2e^{-i(E_2-E_1)t/\\hbar}+\\alpha_1^*\\alpha_2c_1c_2^*e^{-i(E_1-E_2)t/\\hbar} = 2\\rm{Re}\\left(\\alpha_1\\alpha_2^*c_1^*c_2e^{-i(E_2-E_1)t/\\hbar}\\right)$$\n",
        "\n",
        "Let's assume we can write each complex quantity as a $\\rm{real_1} + i*\\rm{real_2}$. We'll separately deal with the complex exponential, but we know those are written as $\\cos\\theta + i*\\sin\\theta$ from Euler's formula.\n",
        "\n",
        "First we import some libraries to deal with complex mathematics."
      ],
      "metadata": {
        "id": "ShIoHva7_vUg"
      }
    },
    {
      "cell_type": "code",
      "metadata": {
        "id": "28zzdEZ6hsdF"
      },
      "source": [
        "#import numpy as np\n",
        "#import matplotlib.pyplot as plt\n",
        "#%matplotlib inline\n",
        "from sympy import Symbol, exp, I, re, im\n",
        "from sympy.functions import conjugate"
      ],
      "execution_count": 1,
      "outputs": []
    },
    {
      "cell_type": "markdown",
      "source": [
        "In the symbolic python (SymPy) library, we can define symbols to represent real numbers. Notice above we imported the function for `Symbol` and the function `I`, which is the imaginary number $i$ when using the library.\n",
        "\n",
        "We will assume we can write the following.\n",
        "$$\\alpha_1 = a + ib\\\\\n",
        "\\alpha_2 = c + id\\\\\n",
        "c_1 = f+ig\\\\\n",
        "c_2 = k + im$$\n",
        "\n",
        "We will make everything positive so that negative signs are clearly negating anything in our mathematics."
      ],
      "metadata": {
        "id": "cTyhUT4nASZM"
      }
    },
    {
      "cell_type": "code",
      "metadata": {
        "id": "tbIgVkVJh3ia"
      },
      "source": [
        "a = Symbol('a', positive=True)\n",
        "b = Symbol('b', positive=True)\n",
        "c = Symbol('c', positive=True)\n",
        "d = Symbol('d', positive=True)\n",
        "f = Symbol('f', positive=True)\n",
        "g = Symbol('g', positive=True)\n",
        "h = Symbol('h', positive=True)\n",
        "m = Symbol('m', positive=True)\n",
        "# Define E1/hbar = w1 and E2/hbar = w2\n",
        "w1 = Symbol('w1', positive=True)\n",
        "w2 = Symbol('w2', positive=True)\n",
        "t = Symbol('t', positive=True)\n",
        "#write our complex expressions\n",
        "alpha1 = a + I*b\n",
        "alpha2 = c + I*d\n",
        "c1 = f + I*g\n",
        "c2 = h + I*m\n",
        "exp1 = exp(-I*(w2-w1)*t)\n",
        "exp2 = exp(-I*(w1-w2)*t)"
      ],
      "execution_count": 7,
      "outputs": []
    },
    {
      "cell_type": "markdown",
      "source": [
        "Once we have the definitions of our expressions, we simply need to do the arithmetic with them, i.e., multiply and add. Let's write the left hand side of the equality we want to explore from above. We will let Python do the arithmetic, and we will see if we can make simplifications. We will write each product term and then look at the real and imaginary portions of them."
      ],
      "metadata": {
        "id": "1bX6rIdiCl_m"
      }
    },
    {
      "cell_type": "code",
      "metadata": {
        "id": "ltK7t5aYkd8g",
        "colab": {
          "base_uri": "https://localhost:8080/"
        },
        "outputId": "08ac2000-b220-4950-92af-d7f33c9c3f83"
      },
      "source": [
        "product1 = alpha1*conjugate(c1)*conjugate(alpha2)*c2*exp1\n",
        "product2 = conjugate(alpha1)*c1*alpha2*conjugate(c2)*exp2\n",
        "print(re(product1))\n",
        "print(re(product2))"
      ],
      "execution_count": 9,
      "outputs": [
        {
          "output_type": "stream",
          "name": "stdout",
          "text": [
            "(a*c*f*h + a*c*g*m + a*d*f*m - a*d*g*h - b*c*f*m + b*c*g*h + b*d*f*h + b*d*g*m)*cos(t*w1 - t*w2) - (a*c*f*m - a*c*g*h - a*d*f*h - a*d*g*m + b*c*f*h + b*c*g*m + b*d*f*m - b*d*g*h)*sin(t*w1 - t*w2)\n",
            "(a*c*f*h + a*c*g*m + a*d*f*m - a*d*g*h - b*c*f*m + b*c*g*h + b*d*f*h + b*d*g*m)*cos(t*w1 - t*w2) + (-a*c*f*m + a*c*g*h + a*d*f*h + a*d*g*m - b*c*f*h - b*c*g*m - b*d*f*m + b*d*g*h)*sin(t*w1 - t*w2)\n"
          ]
        }
      ]
    },
    {
      "cell_type": "code",
      "metadata": {
        "id": "wt7irN42lUUV",
        "colab": {
          "base_uri": "https://localhost:8080/"
        },
        "outputId": "14d551f5-64d4-461b-d4e0-6dcf59b1944c"
      },
      "source": [
        "print(im(product1))\n",
        "print(im(product2))"
      ],
      "execution_count": 10,
      "outputs": [
        {
          "output_type": "stream",
          "name": "stdout",
          "text": [
            "(a*c*f*h + a*c*g*m + a*d*f*m - a*d*g*h - b*c*f*m + b*c*g*h + b*d*f*h + b*d*g*m)*sin(t*w1 - t*w2) + (a*c*f*m - a*c*g*h - a*d*f*h - a*d*g*m + b*c*f*h + b*c*g*m + b*d*f*m - b*d*g*h)*cos(t*w1 - t*w2)\n",
            "-(a*c*f*h + a*c*g*m + a*d*f*m - a*d*g*h - b*c*f*m + b*c*g*h + b*d*f*h + b*d*g*m)*sin(t*w1 - t*w2) + (-a*c*f*m + a*c*g*h + a*d*f*h + a*d*g*m - b*c*f*h - b*c*g*m - b*d*f*m + b*d*g*h)*cos(t*w1 - t*w2)\n"
          ]
        }
      ]
    },
    {
      "cell_type": "markdown",
      "source": [
        "Next, we add them together. Since real can only be added to real and imaginary can only be added to imaginary (like components of a vector), we will add the real and imaginary components separately."
      ],
      "metadata": {
        "id": "x74tbAcYp7Aa"
      }
    },
    {
      "cell_type": "code",
      "metadata": {
        "id": "zVMGAsqKmpAH",
        "colab": {
          "base_uri": "https://localhost:8080/"
        },
        "outputId": "78fe65ad-f09e-419d-e2ef-2303e96b2c8b"
      },
      "source": [
        "print('Real Sum')\n",
        "print(re(product1)+re(product2))\n",
        "print('Imaginary Sum')\n",
        "print(im(product1)+im(product2))"
      ],
      "execution_count": 11,
      "outputs": [
        {
          "output_type": "stream",
          "name": "stdout",
          "text": [
            "Real Sum\n",
            "2*(a*c*f*h + a*c*g*m + a*d*f*m - a*d*g*h - b*c*f*m + b*c*g*h + b*d*f*h + b*d*g*m)*cos(t*w1 - t*w2) + (-a*c*f*m + a*c*g*h + a*d*f*h + a*d*g*m - b*c*f*h - b*c*g*m - b*d*f*m + b*d*g*h)*sin(t*w1 - t*w2) - (a*c*f*m - a*c*g*h - a*d*f*h - a*d*g*m + b*c*f*h + b*c*g*m + b*d*f*m - b*d*g*h)*sin(t*w1 - t*w2)\n",
            "Imaginary Sum\n",
            "(-a*c*f*m + a*c*g*h + a*d*f*h + a*d*g*m - b*c*f*h - b*c*g*m - b*d*f*m + b*d*g*h)*cos(t*w1 - t*w2) + (a*c*f*m - a*c*g*h - a*d*f*h - a*d*g*m + b*c*f*h + b*c*g*m + b*d*f*m - b*d*g*h)*cos(t*w1 - t*w2)\n"
          ]
        }
      ]
    },
    {
      "cell_type": "markdown",
      "source": [
        "Notice the real term has a 2 in front. Typeset this term below.\n",
        "I see that the cosine is the only term with a 2 in front. So, let's see if the two different sine terms are actually the same and add to 2.\n",
        "\n",
        "| term # | sine term 1 | sine term 2 |\n",
        "|--------|-------------|-------------|\n",
        "|    1   |   -acfm     |  -+acfm     |\n",
        "|    2   |    acgh     |  --acgh     |\n",
        "|    3   |    adfh     |  --adfh     |\n",
        "|    4   |    adgm     |  --adgm     |\n",
        "|    5   |   -bcfh     |  -+bcfh     |\n",
        "|    6   |   -bcgm     |  -+bcgm     |\n",
        "|    7   |   -bdfm     |  -+bdfm     |\n",
        "|    8   |    bdgh     |  --bdgh     |\n",
        "\n",
        "\n",
        "These are all matching terms with the same sign. So, we can add them to get 2 in front. The simplified real part is\n",
        "\n",
        "$$2\\left(\\left(acfh+acgm+adfm-adgh-bcfm+bcgh+bdfh+bdgm\\right)\\cos\\left(\\left(\\omega_1-\\omega_2\\right)t\\right)\\left(-acfm+acgh+adfh+adgm-bcfh-bdgm-bdfm+bdgh\\right)\\sin\\left(\\left(\\omega_1-\\omega_2\\right)t\\right)\\right)$$\n",
        "\n",
        "Can you go term by term and determine whether the imaginary component can be simplified?\n",
        "\n",
        "Here are the imaginary terms in a table.\n",
        "\n",
        "| term # |  cos term1  |  cos term 2 |\n",
        "|--------|-------------|-------------|\n",
        "|    1   |   -acfm     |   +acfm     |\n",
        "|    2   |    acgh     |   -acgh     |\n",
        "|    3   |    adfh     |   -adfh     |\n",
        "|    4   |    adgm     |   -adgm     |\n",
        "|    5   |   -bcfh     |   +bcfh     |\n",
        "|    6   |   -bcgm     |   +bcgm     |\n",
        "|    7   |   -bdfm     |   +bdfm     |\n",
        "|    8   |    bdgh     |   -bdgh     |\n",
        "\n",
        "They all cancel. There is not an imaginary term, which is nice since we are calculating probability."
      ],
      "metadata": {
        "id": "kFNMem4pqkaj"
      }
    },
    {
      "cell_type": "code",
      "metadata": {
        "id": "7TECZDSmphgM"
      },
      "source": [],
      "execution_count": null,
      "outputs": []
    }
  ]
}