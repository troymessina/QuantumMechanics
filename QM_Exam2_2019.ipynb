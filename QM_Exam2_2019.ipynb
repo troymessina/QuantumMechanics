{
  "nbformat": 4,
  "nbformat_minor": 0,
  "metadata": {
    "colab": {
      "name": "QM-Exam2-2019.ipynb",
      "provenance": [],
      "include_colab_link": true
    },
    "kernelspec": {
      "name": "python3",
      "display_name": "Python 3"
    }
  },
  "cells": [
    {
      "cell_type": "markdown",
      "metadata": {
        "id": "view-in-github",
        "colab_type": "text"
      },
      "source": [
        "<a href=\"https://colab.research.google.com/github/troymessina/QuantumMechanics/blob/master/QM_Exam2_2019.ipynb\" target=\"_parent\"><img src=\"https://colab.research.google.com/assets/colab-badge.svg\" alt=\"Open In Colab\"/></a>"
      ]
    },
    {
      "cell_type": "markdown",
      "metadata": {
        "id": "Ajs5jfHtO5aZ",
        "colab_type": "text"
      },
      "source": [
        "# Quantum Mechanics Take-Home Exam\n",
        "This is a notebook for solving some problems on take-home exam 2."
      ]
    },
    {
      "cell_type": "code",
      "metadata": {
        "id": "3jiHfquX10WO",
        "colab_type": "code",
        "colab": {}
      },
      "source": [
        "import numpy as np\n",
        "from numpy import sin, cos, sinh, cosh, exp #Import particular functions. No need for np.exp etc.\n",
        "import scipy as sc\n",
        "from scipy.special import erf\n",
        "import matplotlib.pyplot as plt\n",
        "import matplotlib\n",
        "%matplotlib inline\n",
        "params = {'legend.fontsize': 'xx-large',\n",
        "          'figure.figsize': (10, 7.5),\n",
        "         'axes.labelsize': 'xx-large',\n",
        "         'axes.titlesize':'xx-large',\n",
        "         'xtick.labelsize':'xx-large',\n",
        "         'ytick.labelsize':'xx-large'}\n",
        "plt.rcParams.update(params)\n",
        "plt.style.use('ggplot')"
      ],
      "execution_count": 0,
      "outputs": []
    },
    {
      "cell_type": "markdown",
      "metadata": {
        "id": "SfaeBFTL2npk",
        "colab_type": "text"
      },
      "source": [
        "# Problem 5\n",
        "In part b, you will graph the wave functions. You can use the following code to graph the functions. You will need to enter the $x$ and $y$ information first."
      ]
    },
    {
      "cell_type": "code",
      "metadata": {
        "id": "hJFRvUNA2Bcu",
        "colab_type": "code",
        "colab": {}
      },
      "source": [
        "x = np.arange(0,0,0) #initial x, final x, step size\n",
        "y = #a function of x\n",
        "\n",
        "plt.plot(x, y)\n",
        "plt.xlabel(\"give it an x axis\")\n",
        "plt.ylabel(\"give it a y axis\")\n",
        "plt.show()"
      ],
      "execution_count": 0,
      "outputs": []
    },
    {
      "cell_type": "markdown",
      "metadata": {
        "id": "-Nz64MrUKp1y",
        "colab_type": "text"
      },
      "source": [
        "## Part c\n",
        "The normalization in part (a) can be done using the textbook. However, the integral of the Gaussian function over a finite range results in what is called the error function $\\rm erf()$\n",
        "\n",
        "$$\\frac{2}{\\sqrt{\\pi}}\\int_0^ze^{-t^2}dt ={\\rm erf(z)}$$\n",
        "\n",
        "I have imported the error function so you can call it as `erf(z)`. You will need to determine how to use this appropriately."
      ]
    },
    {
      "cell_type": "code",
      "metadata": {
        "id": "GfuqoSF3KpP5",
        "colab_type": "code",
        "colab": {}
      },
      "source": [
        "# Do your error function work here."
      ],
      "execution_count": 0,
      "outputs": []
    },
    {
      "cell_type": "markdown",
      "metadata": {
        "id": "u25VjRu0LSVn",
        "colab_type": "text"
      },
      "source": [
        "# Problem 9\n",
        "You can use the following code to plot the AlGaAs-GaAs-AlGaAs finite well data. You will need to create the arrays for each energy level to plot. This includes the well widths as $x$ values and the energies as $y$ values. I've set up the array creation for you. You only need to fill them and plot them."
      ]
    },
    {
      "cell_type": "code",
      "metadata": {
        "id": "NP8GvhZ72HZD",
        "colab_type": "code",
        "colab": {}
      },
      "source": [
        "E1x = np.arange(0,1,1) #initial x, final x, step size\n",
        "E1y = np.array([0,0,0,0,0,0,0,0,0,0])\n",
        "E2x = np.arange(0,1,1) #initial x, final x, step size\n",
        "E2y = np.array([0,0,0,0,0,0,0])\n",
        "E3x = np.arange(0,1,1) #initial x, final x, step size\n",
        "E3y = np.array([1,1,1])\n",
        "\n",
        "plt.plot(E1x, E1y)\n",
        "plt.xlabel(\"give it an x axis\")\n",
        "plt.ylabel(\"give it a y axis\")\n",
        "plt.show()"
      ],
      "execution_count": 0,
      "outputs": []
    },
    {
      "cell_type": "code",
      "metadata": {
        "id": "Wzky9TS0NGkL",
        "colab_type": "code",
        "colab": {}
      },
      "source": [
        ""
      ],
      "execution_count": 0,
      "outputs": []
    }
  ]
}